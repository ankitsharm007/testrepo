{
 "cells": [
  {
   "cell_type": "code",
   "execution_count": 8,
   "metadata": {},
   "outputs": [
    {
     "name": "stdout",
     "output_type": "stream",
     "text": [
      "5\n",
      "4\n",
      "3\n",
      "2\n",
      "1\n",
      "Blastoff\n",
      "0\n"
     ]
    }
   ],
   "source": [
    "n=5\n",
    "while n > 0:\n",
    "    print(n)\n",
    "    n = n-1\n",
    "print('Blastoff')\n",
    "print(n)"
   ]
  },
  {
   "cell_type": "code",
   "execution_count": 9,
   "metadata": {},
   "outputs": [
    {
     "name": "stdout",
     "output_type": "stream",
     "text": [
      "enter the value: \n",
      "\n",
      "enter the value: \n",
      "\n",
      "enter the value: ankit\n",
      "ankit\n",
      "enter the value: sone\n",
      "sone\n",
      "enter the value: done\n",
      "Done\n"
     ]
    }
   ],
   "source": [
    "while True:\n",
    "    line = input('enter the value: ')\n",
    "    if line == 'done':\n",
    "        break\n",
    "    print(line)\n",
    "print('Done')\n",
    "    "
   ]
  },
  {
   "cell_type": "code",
   "execution_count": 10,
   "metadata": {},
   "outputs": [
    {
     "name": "stdout",
     "output_type": "stream",
     "text": [
      "enter the value: #nki\n",
      "enter the value: done\n",
      "Done\n"
     ]
    }
   ],
   "source": [
    "while True:\n",
    "    line = input('enter the value: ')\n",
    "    if line[0] == '#':\n",
    "        continue\n",
    "    if line == 'done':\n",
    "        break\n",
    "    print(line)\n",
    "print('Done')\n",
    "    "
   ]
  },
  {
   "cell_type": "code",
   "execution_count": 26,
   "metadata": {},
   "outputs": [
    {
     "name": "stdout",
     "output_type": "stream",
     "text": [
      "Before -1\n",
      "1 1\n",
      "2 2\n",
      "37 37\n",
      "43 43\n",
      "43 23\n",
      "54 54\n",
      "after 54\n"
     ]
    }
   ],
   "source": [
    "#finding largest\n",
    "largest_so_far = -1\n",
    "print('Before',largest_so_far)\n",
    "for the_num in [1,2,37,43,23,54]:\n",
    "    if the_num > largest_so_far:\n",
    "        largest_so_far = the_num\n",
    "    print(largest_so_far,the_num)\n",
    "print('after',largest_so_far)"
   ]
  },
  {
   "cell_type": "code",
   "execution_count": 12,
   "metadata": {},
   "outputs": [
    {
     "name": "stdout",
     "output_type": "stream",
     "text": [
      "Before 0\n",
      "1 15\n",
      "2 21\n",
      "3 33\n",
      "4 41\n",
      "5 54\n",
      "6 43\n",
      "7 44\n",
      "after 7\n"
     ]
    }
   ],
   "source": [
    "zork = 0\n",
    "print(\"Before\",zork)\n",
    "for i in [15,21,33,41,54,43,44]:\n",
    "    zork = zork + 1\n",
    "    print(zork,i)\n",
    "print('after',zork)"
   ]
  },
  {
   "cell_type": "code",
   "execution_count": 15,
   "metadata": {},
   "outputs": [
    {
     "name": "stdout",
     "output_type": "stream",
     "text": [
      "Before 0\n",
      "15 15\n",
      "36 21\n",
      "69 33\n",
      "110 41\n",
      "164 54\n",
      "207 43\n",
      "251 44\n",
      "after 251\n"
     ]
    }
   ],
   "source": [
    "zork = 0\n",
    "print(\"Before\",zork)\n",
    "for i in [15,21,33,41,54,43,44]:\n",
    "    zork = zork + i\n",
    "    print(zork,i)\n",
    "print('after',zork)"
   ]
  },
  {
   "cell_type": "code",
   "execution_count": 19,
   "metadata": {},
   "outputs": [
    {
     "name": "stdout",
     "output_type": "stream",
     "text": [
      "Before 251\n",
      "1 15 15\n",
      "2 36 21\n",
      "3 69 33\n",
      "4 110 41\n",
      "5 164 54\n",
      "6 207 43\n",
      "7 251 44\n",
      "after 7 251 35.857142857142854\n"
     ]
    }
   ],
   "source": [
    "##average\n",
    "count = 0\n",
    "sum = 0\n",
    "print(\"Before\",zork)\n",
    "for value in [15,21,33,41,54,43,44]:\n",
    "    count = count + 1\n",
    "    sum = sum +value\n",
    "    print(count,sum,value)\n",
    "print('after',count,sum,sum/count)"
   ]
  },
  {
   "cell_type": "code",
   "execution_count": 21,
   "metadata": {},
   "outputs": [
    {
     "name": "stdout",
     "output_type": "stream",
     "text": [
      "before\n",
      "largest number 54\n",
      "largest number 54\n",
      "after\n"
     ]
    }
   ],
   "source": [
    "## Filtering in a loop \n",
    "print('before')\n",
    "for i in [1,2,34,54,54,34,5]:\n",
    "    if i > 34:\n",
    "        print('largest number',i)\n",
    "print('after')"
   ]
  },
  {
   "cell_type": "code",
   "execution_count": 22,
   "metadata": {},
   "outputs": [
    {
     "name": "stdout",
     "output_type": "stream",
     "text": [
      "before False\n",
      "False 0\n",
      "False 1\n",
      "False 2\n",
      "True 3\n",
      "True 4\n",
      "after\n"
     ]
    }
   ],
   "source": [
    "found = False\n",
    "print('before',found)\n",
    "for i in range(5):\n",
    "    if i == 3:\n",
    "        found = True\n",
    "    print(found,i)\n",
    "print('after')"
   ]
  },
  {
   "cell_type": "code",
   "execution_count": 24,
   "metadata": {},
   "outputs": [
    {
     "name": "stdout",
     "output_type": "stream",
     "text": [
      "before None\n",
      "19 19\n",
      "19 34\n",
      "19 223\n",
      "19 43\n",
      "19 54\n",
      "19 21\n",
      "19 42\n",
      "3 3\n",
      "3 21\n",
      "after 3\n"
     ]
    }
   ],
   "source": [
    "## Finding smallest number\n",
    "smallest = None\n",
    "print('before',smallest)\n",
    "for num in [19,34,223,43,54,21,42,3,21]:\n",
    "    if smallest is None:\n",
    "        smallest = num\n",
    "    elif num < smallest:\n",
    "        smallest = num\n",
    "    print(smallest,num)\n",
    "print('after',smallest)\n"
   ]
  },
  {
   "cell_type": "code",
   "execution_count": 40,
   "metadata": {},
   "outputs": [
    {
     "name": "stdout",
     "output_type": "stream",
     "text": [
      "5\n"
     ]
    }
   ],
   "source": [
    "tot = 0 \n",
    "for i in [5, 4, 3, 2, 1] :\n",
    "    \n",
    "    tot = tot + 1\n",
    "print(tot)"
   ]
  },
  {
   "cell_type": "code",
   "execution_count": 33,
   "metadata": {},
   "outputs": [
    {
     "name": "stdout",
     "output_type": "stream",
     "text": [
      "-1\n"
     ]
    }
   ],
   "source": [
    "smallest_so_far = -1\n",
    "for the_num in [9, 41, 12, 3, 74, 15] :\n",
    "    if the_num < smallest_so_far :\n",
    "        smallest_so_far = the_num\n",
    "print(smallest_so_far)"
   ]
  },
  {
   "cell_type": "code",
   "execution_count": 34,
   "metadata": {},
   "outputs": [
    {
     "name": "stdout",
     "output_type": "stream",
     "text": [
      "Dry off!\n"
     ]
    }
   ],
   "source": [
    "n = 0\n",
    "while n > 0 :\n",
    "    print('Lather')\n",
    "    print('Rinse')\n",
    "print('Dry off!')"
   ]
  },
  {
   "cell_type": "code",
   "execution_count": 51,
   "metadata": {},
   "outputs": [
    {
     "name": "stdout",
     "output_type": "stream",
     "text": [
      "Enter a number: w\n",
      "Invalid input\n",
      "Enter a number: er\n",
      "Invalid input\n",
      "Enter a number: 1\n",
      "Enter a number: 2\n",
      "Enter a number: done\n",
      "Maximum 2.0\n",
      "Minimum 1.0\n"
     ]
    }
   ],
   "source": [
    "largest = None\n",
    "smallest = None\n",
    "while True:\n",
    "    num = input(\"Enter a number: \")\n",
    "    if num == \"done\" :\n",
    "        break\n",
    "    try:\n",
    "        fval = float(num)\n",
    "    except:\n",
    "        print('Invalid input')\n",
    "        continue\n",
    "        \n",
    "    \n",
    "    if largest  is None or largest < fval :\n",
    "        largest =fval\n",
    "    \n",
    "    if smallest is None or smallest > fval:\n",
    "        smallest = fval     \n",
    "    \n",
    "print(\"Maximum\", largest)\n",
    "print('Minimum',smallest)"
   ]
  },
  {
   "cell_type": "code",
   "execution_count": 52,
   "metadata": {},
   "outputs": [],
   "source": [
    "import numpy as np \n",
    "x = 2*np.random.rand(100,1)\n",
    "y = 4 + 3*x + np.random.rand(100,1)"
   ]
  },
  {
   "cell_type": "code",
   "execution_count": 55,
   "metadata": {},
   "outputs": [
    {
     "data": {
      "text/plain": [
       "[<matplotlib.lines.Line2D at 0x27c9a382f70>]"
      ]
     },
     "execution_count": 55,
     "metadata": {},
     "output_type": "execute_result"
    },
    {
     "data": {
      "image/png": "[encoded data removed]",
      "text/plain": [
       "<Figure size 432x288 with 1 Axes>"
      ]
     },
     "metadata": {
      "needs_background": "light"
     },
     "output_type": "display_data"
    }
   ],
   "source": [
    "import matplotlib.pyplot as plt\n",
    "plt.plot(x,y,\"r.\")"
   ]
  },
  {
   "cell_type": "code",
   "execution_count": 4,
   "metadata": {},
   "outputs": [
    {
     "name": "stdout",
     "output_type": "stream",
     "text": [
      "0 b\n",
      "1 a\n",
      "2 n\n",
      "3 a\n",
      "4 n\n",
      "5 a\n"
     ]
    }
   ],
   "source": [
    "a =  'banana'\n",
    "index = 0\n",
    "while index < len(a):\n",
    "    letter = a[index]\n",
    "    print(index,letter)\n",
    "    index = index + 1\n",
    "    "
   ]
  },
  {
   "cell_type": "code",
   "execution_count": 5,
   "metadata": {},
   "outputs": [
    {
     "name": "stdout",
     "output_type": "stream",
     "text": [
      "b\n",
      "a\n",
      "n\n",
      "a\n",
      "n\n",
      "a\n"
     ]
    }
   ],
   "source": [
    "fruit = 'banana'\n",
    "for a in fruit:\n",
    "    print(a)"
   ]
  },
  {
   "cell_type": "code",
   "execution_count": 8,
   "metadata": {},
   "outputs": [
    {
     "name": "stdout",
     "output_type": "stream",
     "text": [
      "3\n"
     ]
    }
   ],
   "source": [
    "word = 'banana'\n",
    "count = 0\n",
    "for i in word:\n",
    "    if i == 'a':\n",
    "        count = count + 1\n",
    "print(count)"
   ]
  },
  {
   "cell_type": "code",
   "execution_count": 11,
   "metadata": {},
   "outputs": [
    {
     "data": {
      "text/plain": [
       "'Python'"
      ]
     },
     "execution_count": 11,
     "metadata": {},
     "output_type": "execute_result"
    }
   ],
   "source": [
    "a = 'Monty Python'\n",
    "a[6:]"
   ]
  },
  {
   "cell_type": "code",
   "execution_count": 12,
   "metadata": {},
   "outputs": [
    {
     "data": {
      "text/plain": [
       "'Monty'"
      ]
     },
     "execution_count": 12,
     "metadata": {},
     "output_type": "execute_result"
    }
   ],
   "source": [
    "a[0:5]"
   ]
  },
  {
   "cell_type": "code",
   "execution_count": 13,
   "metadata": {},
   "outputs": [
    {
     "data": {
      "text/plain": [
       "str"
      ]
     },
     "execution_count": 13,
     "metadata": {},
     "output_type": "execute_result"
    }
   ],
   "source": [
    "stuff = 'Hello World'\n",
    "type(stuff)"
   ]
  },
  {
   "cell_type": "code",
   "execution_count": 14,
   "metadata": {},
   "outputs": [
    {
     "data": {
      "text/plain": [
       "['__add__',\n",
       " '__class__',\n",
       " '__contains__',\n",
       " '__delattr__',\n",
       " '__dir__',\n",
       " '__doc__',\n",
       " '__eq__',\n",
       " '__format__',\n",
       " '__ge__',\n",
       " '__getattribute__',\n",
       " '__getitem__',\n",
       " '__getnewargs__',\n",
       " '__gt__',\n",
       " '__hash__',\n",
       " '__init__',\n",
       " '__init_subclass__',\n",
       " '__iter__',\n",
       " '__le__',\n",
       " '__len__',\n",
       " '__lt__',\n",
       " '__mod__',\n",
       " '__mul__',\n",
       " '__ne__',\n",
       " '__new__',\n",
       " '__reduce__',\n",
       " '__reduce_ex__',\n",
       " '__repr__',\n",
       " '__rmod__',\n",
       " '__rmul__',\n",
       " '__setattr__',\n",
       " '__sizeof__',\n",
       " '__str__',\n",
       " '__subclasshook__',\n",
       " 'capitalize',\n",
       " 'casefold',\n",
       " 'center',\n",
       " 'count',\n",
       " 'encode',\n",
       " 'endswith',\n",
       " 'expandtabs',\n",
       " 'find',\n",
       " 'format',\n",
       " 'format_map',\n",
       " 'index',\n",
       " 'isalnum',\n",
       " 'isalpha',\n",
       " 'isascii',\n",
       " 'isdecimal',\n",
       " 'isdigit',\n",
       " 'isidentifier',\n",
       " 'islower',\n",
       " 'isnumeric',\n",
       " 'isprintable',\n",
       " 'isspace',\n",
       " 'istitle',\n",
       " 'isupper',\n",
       " 'join',\n",
       " 'ljust',\n",
       " 'lower',\n",
       " 'lstrip',\n",
       " 'maketrans',\n",
       " 'partition',\n",
       " 'replace',\n",
       " 'rfind',\n",
       " 'rindex',\n",
       " 'rjust',\n",
       " 'rpartition',\n",
       " 'rsplit',\n",
       " 'rstrip',\n",
       " 'split',\n",
       " 'splitlines',\n",
       " 'startswith',\n",
       " 'strip',\n",
       " 'swapcase',\n",
       " 'title',\n",
       " 'translate',\n",
       " 'upper',\n",
       " 'zfill']"
      ]
     },
     "execution_count": 14,
     "metadata": {},
     "output_type": "execute_result"
    }
   ],
   "source": [
    "dir(stuff)"
   ]
  },
  {
   "cell_type": "code",
   "execution_count": 15,
   "metadata": {},
   "outputs": [],
   "source": [
    "greet = 'Hello Bob'"
   ]
  },
  {
   "cell_type": "code",
   "execution_count": 16,
   "metadata": {},
   "outputs": [
    {
     "name": "stdout",
     "output_type": "stream",
     "text": [
      "HELLO BOB\n"
     ]
    }
   ],
   "source": [
    "print(greet.upper())"
   ]
  },
  {
   "cell_type": "code",
   "execution_count": 17,
   "metadata": {},
   "outputs": [
    {
     "name": "stdout",
     "output_type": "stream",
     "text": [
      ".ma\n"
     ]
    }
   ],
   "source": [
    "data = 'From stephen.marquard@uct.ac.za Sat Jan  5 09:14:16 2008'\n",
    "pos = data.find('.')\n",
    "print(data[pos:pos+3])"
   ]
  },
  {
   "cell_type": "code",
   "execution_count": 20,
   "metadata": {},
   "outputs": [
    {
     "data": {
      "text/plain": [
       "23"
      ]
     },
     "execution_count": 20,
     "metadata": {},
     "output_type": "execute_result"
    }
   ],
   "source": [
    "text = \"X-DSPAM-Confidence:    0.8475\";\n",
    "a = text.find('0')\n",
    "a"
   ]
  },
  {
   "cell_type": "code",
   "execution_count": 23,
   "metadata": {},
   "outputs": [
    {
     "data": {
      "text/plain": [
       "0.8475"
      ]
     },
     "execution_count": 23,
     "metadata": {},
     "output_type": "execute_result"
    }
   ],
   "source": [
    "float(text[a:])"
   ]
  },
  {
   "cell_type": "code",
   "execution_count": 43,
   "metadata": {},
   "outputs": [
    {
     "name": "stdout",
     "output_type": "stream",
     "text": [
      "a\n",
      "n\n",
      "a\n",
      "n\n",
      "a\n",
      "b\n"
     ]
    }
   ],
   "source": [
    "fruit = 'banana'\n",
    "index=0\n",
    "while index < len(fruit):\n",
    "    letter=fruit[::-1][index]\n",
    "    print(letter)\n",
    "    index=index+1"
   ]
  },
  {
   "cell_type": "code",
   "execution_count": 40,
   "metadata": {},
   "outputs": [
    {
     "name": "stdout",
     "output_type": "stream",
     "text": [
      "a\n",
      "n\n",
      "a\n",
      "n\n",
      "a\n",
      "b\n"
     ]
    }
   ],
   "source": [
    "a = 'banana'\n",
    "for i in a[::-1]:\n",
    "    print(i)"
   ]
  },
  {
   "cell_type": "code",
   "execution_count": 46,
   "metadata": {},
   "outputs": [
    {
     "data": {
      "text/plain": [
       "0.8475"
      ]
     },
     "execution_count": 46,
     "metadata": {},
     "output_type": "execute_result"
    }
   ],
   "source": [
    "str = 'X-DSPAM-Confidence:0.8475'\n",
    "a = str.find(':')\n",
    "b = float(str[a+1:])\n",
    "b"
   ]
  },
  {
   "cell_type": "code",
   "execution_count": 48,
   "metadata": {},
   "outputs": [
    {
     "name": "stdout",
     "output_type": "stream",
     "text": [
      "3\n"
     ]
    }
   ],
   "source": [
    "word = 'banana'\n",
    "count = 0\n",
    "for letter in word:\n",
    "    if letter == 'a':\n",
    "        count = count+1\n",
    "print(count)"
   ]
  },
  {
   "cell_type": "code",
   "execution_count": 49,
   "metadata": {},
   "outputs": [
    {
     "data": {
      "text/plain": [
       "'banana'"
      ]
     },
     "execution_count": 49,
     "metadata": {},
     "output_type": "execute_result"
    }
   ],
   "source": [
    "word[:]"
   ]
  },
  {
   "cell_type": "code",
   "execution_count": null,
   "metadata": {},
   "outputs": [],
   "source": []
  }
 ],
 "metadata": {
  "kernelspec": {
   "display_name": "Python 3",
   "language": "python",
   "name": "python3"
  },
  "language_info": {
   "codemirror_mode": {
    "name": "ipython",
    "version": 3
   },
   "file_extension": ".py",
   "mimetype": "text/x-python",
   "name": "python",
   "nbconvert_exporter": "python",
   "pygments_lexer": "ipython3",
   "version": "3.8.3"
  }
 },
 "nbformat": 4,
 "nbformat_minor": 4
}
